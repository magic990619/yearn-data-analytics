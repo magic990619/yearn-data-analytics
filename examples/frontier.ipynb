{
 "cells": [
  {
   "cell_type": "markdown",
   "metadata": {},
   "source": [
    "# APY & Volatility"
   ]
  },
  {
   "cell_type": "code",
   "execution_count": 1,
   "metadata": {},
   "outputs": [],
   "source": [
    "\"\"\"load yearn vaults\"\"\"\n",
    "from src.yearn import Yearn, Network, Subgraph\n",
    "\n",
    "yearn = Yearn(Network.Mainnet)\n",
    "subgraph = Subgraph(Network.Mainnet)\n",
    "vaults = yearn.vaults"
   ]
  },
  {
   "cell_type": "code",
   "execution_count": 2,
   "metadata": {},
   "outputs": [
    {
     "data": {
      "application/vnd.jupyter.widget-view+json": {
       "model_id": "4499836f74e44253bfedc16de3c5a582",
       "version_major": 2,
       "version_minor": 0
      },
      "text/plain": [
       "  0%|          | 0/101 [00:00<?, ?it/s]"
      ]
     },
     "metadata": {},
     "output_type": "display_data"
    }
   ],
   "source": [
    "\"\"\"collect share price data from the subgraph\"\"\"\n",
    "import jsons\n",
    "from tqdm.notebook import tqdm\n",
    "import pandas as pd\n",
    "\n",
    "\n",
    "data = {}\n",
    "for vault in tqdm(vaults):\n",
    "    # collect share prices from update events\n",
    "    res = subgraph.price_per_share(vault, vault.inception)\n",
    "    df = pd.DataFrame(jsons.dump(res))\n",
    "    if len(df) == 0:\n",
    "        continue\n",
    "    df['datetime'] = pd.to_datetime(df.timestamp, unit='ms')\n",
    "    df.set_index('datetime', inplace=True)\n",
    "    prices = pd.to_numeric(df.pricePerShare)\n",
    "\n",
    "    # filter out harvests\n",
    "    prices = prices[prices.diff() != 0]\n",
    "    prices = prices.groupby(pd.Grouper(freq='D')).last()\n",
    "\n",
    "    # append to data\n",
    "    data[vault.name] = prices"
   ]
  },
  {
   "cell_type": "code",
   "execution_count": null,
   "metadata": {},
   "outputs": [],
   "source": [
    "\"\"\"plot the efficient frontier\"\"\"\n",
    "import numpy as np\n",
    "import seaborn as sns\n",
    "import matplotlib.pyplot as plt\n",
    "from scipy.optimize import minimize\n",
    "\n",
    "sns.set_style('whitegrid')\n",
    "fig, ax = plt.subplots(figsize=(20, 15))\n",
    "# ax.set_title(\"Efficient Frontier - 2022 Q1\")\n",
    "ax.set_title(\"Efficient Frontier - 2021 Q4\")\n",
    "ax.set_ylabel(\"Expected Return (Yearly)\")\n",
    "ax.set_xlabel(\"Standard Deviation (Yearly)\")\n",
    "\n",
    "# interpolated prices\n",
    "df = pd.DataFrame(data)\n",
    "df = df[df.columns[(~np.isnan(df)).sum() > 1]]\n",
    "log_prices = np.log(df).interpolate(method='polynomial', order=1)  # linear interpolation in log prices\n",
    "# prices = np.exp(log_prices)['2022-01-01':'2022-04-01'].dropna(axis=1)\n",
    "prices = np.exp(log_prices)['2021-10-01':'2022-01-01'].dropna(axis=1)\n",
    "returns = prices.pct_change().dropna(axis=0)\n",
    "\n",
    "# extrapolated mean & covariance\n",
    "T = 365\n",
    "mu = (1 + returns).prod() ** (T / len(returns)) - 1\n",
    "cov = returns.cov() * T\n",
    "sigma = np.sqrt(np.diag(cov))\n",
    "\n",
    "# remove outliers\n",
    "mu_iqr = np.quantile(mu, 0.75) - np.quantile(mu, 0.25)\n",
    "mu_median = np.median(mu)\n",
    "mask = (mu > mu_median + 1.5 * mu_iqr) | (mu < mu_median - 1.5 * mu_iqr)\n",
    "\n",
    "sigma_iqr = np.quantile(sigma, 0.75) - np.quantile(sigma, 0.25)\n",
    "sigma_median = np.median(sigma)\n",
    "mask |= (sigma > sigma_median + 1.5 * sigma_iqr) | (sigma < sigma_median - 1.5 * sigma_iqr)\n",
    "\n",
    "mu = mu[~mask]\n",
    "returns = returns[mu.index]\n",
    "cov = returns.cov() * T\n",
    "sigma = np.sqrt(np.diag(cov))\n",
    "\n",
    "# plot assets\n",
    "ax.scatter(sigma, mu, color='cornflowerblue', s=50)\n",
    "ylim = mu.max() - mu.min()\n",
    "xlim = sigma.max() - sigma.min()\n",
    "for _sigma, _mu, _name in zip(sigma, mu, mu.index):\n",
    "    ax.text(_sigma + xlim / 100, _mu + ylim / 100, _name, fontsize=12, alpha=0.3)\n",
    "\n",
    "\n",
    "# Efficient Frontier\n",
    "def efficient_return(target_std):\n",
    "    N = len(mu)\n",
    "\n",
    "    def neg_portfolio_return(weights):\n",
    "        return -(mu * weights).sum()\n",
    "\n",
    "    def portfolio_std(weights):\n",
    "        return np.sqrt((weights[np.newaxis, :] @ cov @ weights[:, np.newaxis]).sum())\n",
    "\n",
    "    constraints = (\n",
    "        {'type': 'eq', 'fun': lambda x: portfolio_std(x) - target_std},\n",
    "        {'type': 'eq', 'fun': lambda x: np.sum(x) - 1},\n",
    "    )\n",
    "    bounds = tuple((0, 1) for _ in range(N))\n",
    "    result = minimize(neg_portfolio_return, N*[1 / N], bounds=bounds, constraints=constraints)\n",
    "    return -result.fun, result.x\n",
    "\n",
    "\n",
    "num_samples = 100\n",
    "threshold = 0.1\n",
    "\n",
    "stds = np.linspace(sigma.min(), sigma.max(), num_samples)\n",
    "mus, nonzero = [], set({})\n",
    "last_mu = 0.0\n",
    "for idx in tqdm(range(num_samples)):\n",
    "    new_mu, weights = efficient_return(stds[idx])\n",
    "    nonzero.update(set(*np.nonzero(weights > threshold)))\n",
    "    if new_mu >= last_mu:\n",
    "        last_mu = new_mu\n",
    "        mus.append(new_mu)\n",
    "    else:\n",
    "        print(\"early stopping\")\n",
    "        break\n",
    "\n",
    "ax.plot(stds[:len(mus)], mus, color='mediumvioletred')\n",
    "\n",
    "for idx in nonzero:\n",
    "    ax.scatter(sigma[idx], mu[idx], color='mediumvioletred', s=50)\n",
    "    ax.text(sigma[idx] + xlim / 100, mu[idx] + ylim / 100, mu.index[idx], fontsize=12)"
   ]
  }
 ],
 "metadata": {
  "interpreter": {
   "hash": "c370fca023aee46bb2c8bb38dd71714d6919f758ceb58a27610baafbe44ac2dc"
  },
  "kernelspec": {
   "display_name": "Python 3.9.12 ('.venv': poetry)",
   "language": "python",
   "name": "python3"
  },
  "language_info": {
   "codemirror_mode": {
    "name": "ipython",
    "version": 3
   },
   "file_extension": ".py",
   "mimetype": "text/x-python",
   "name": "python",
   "nbconvert_exporter": "python",
   "pygments_lexer": "ipython3",
   "version": "3.9.12"
  },
  "orig_nbformat": 4
 },
 "nbformat": 4,
 "nbformat_minor": 2
}
